{
 "cells": [
  {
   "cell_type": "code",
   "execution_count": 1,
   "metadata": {},
   "outputs": [],
   "source": [
    "import os\n",
    "import scipy\n",
    "import numpy as np"
   ]
  },
  {
   "cell_type": "code",
   "execution_count": 1,
   "metadata": {},
   "outputs": [],
   "source": [
    "def get_file_list(folder_path):\n",
    "    file_list = [os.path.join(folder_path, file) for file in os.listdir(folder_path) if file.endswith('.mat')]\n",
    "    file_list.sort()\n",
    "    return file_list"
   ]
  },
  {
   "cell_type": "code",
   "execution_count": 2,
   "metadata": {},
   "outputs": [],
   "source": [
    "def get_data(file_list):\n",
    "    X = []\n",
    "    Y = []\n",
    "\n",
    "    for file in file_list:\n",
    "\n",
    "        x = scipy.io.loadmat(file)\n",
    "        x = x['data']\n",
    "        \n",
    "        # removethe last 250 elements from each trial\n",
    "        x = x[:,:,:500]\n",
    "\n",
    "        first_letter = file.split('/')[-1][0]\n",
    "\n",
    "        # create output vector. If file begins with 'P', then y = [1,0], else y = [0,1], having the same dimension as x\n",
    "        if first_letter == 'P':\n",
    "            y = np.zeros((x.shape[0],2))\n",
    "            y[:,0] = 1\n",
    "        else:\n",
    "            y = np.zeros((x.shape[0],2))\n",
    "            y[:,1] = 1\n",
    "\n",
    "        X.append(x)\n",
    "        Y.append(y)\n",
    "\n",
    "    return X, Y\n"
   ]
  }
 ],
 "metadata": {
  "kernelspec": {
   "display_name": "eeg_net_env",
   "language": "python",
   "name": "python3"
  },
  "language_info": {
   "codemirror_mode": {
    "name": "ipython",
    "version": 3
   },
   "file_extension": ".py",
   "mimetype": "text/x-python",
   "name": "python",
   "nbconvert_exporter": "python",
   "pygments_lexer": "ipython3",
   "version": "3.11.4"
  },
  "orig_nbformat": 4
 },
 "nbformat": 4,
 "nbformat_minor": 2
}
