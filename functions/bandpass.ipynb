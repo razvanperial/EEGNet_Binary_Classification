{
 "cells": [
  {
   "cell_type": "code",
   "execution_count": 2,
   "metadata": {},
   "outputs": [],
   "source": [
    "from scipy.signal import butter, filtfilt\n",
    "import numpy as np"
   ]
  },
  {
   "cell_type": "code",
   "execution_count": 1,
   "metadata": {},
   "outputs": [],
   "source": [
    "def bandpass_filter(signal, fs, low_freq, high_freq, order=5):\n",
    "    # Calculate the normalized cutoff frequencies\n",
    "    nyquist_freq = 0.5 * fs\n",
    "    low = low_freq / nyquist_freq\n",
    "    high = high_freq / nyquist_freq\n",
    "\n",
    "    # Apply the bandpass filter to each channel separately\n",
    "    filtered_signal = np.zeros_like(signal)\n",
    "    for i in range(signal.shape[1]):\n",
    "        channel_signal = signal[:, i, :]\n",
    "        b, a = butter(order, [low, high], btype='band')\n",
    "        filtered_channel = filtfilt(b, a, channel_signal, axis=1)\n",
    "        filtered_signal[:, i, :] = filtered_channel\n",
    "\n",
    "    return filtered_signal"
   ]
  }
 ],
 "metadata": {
  "kernelspec": {
   "display_name": "eeg_net_env",
   "language": "python",
   "name": "python3"
  },
  "language_info": {
   "codemirror_mode": {
    "name": "ipython",
    "version": 3
   },
   "file_extension": ".py",
   "mimetype": "text/x-python",
   "name": "python",
   "nbconvert_exporter": "python",
   "pygments_lexer": "ipython3",
   "version": "3.11.4"
  },
  "orig_nbformat": 4
 },
 "nbformat": 4,
 "nbformat_minor": 2
}
