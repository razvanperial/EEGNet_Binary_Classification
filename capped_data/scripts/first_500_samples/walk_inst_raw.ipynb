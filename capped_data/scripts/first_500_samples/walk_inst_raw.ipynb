{
 "cells": [
  {
   "cell_type": "code",
   "execution_count": 1,
   "metadata": {},
   "outputs": [],
   "source": [
    "from EEGModels import EEGNet\n",
    "import scipy\n",
    "import numpy as np\n",
    "from tensorflow.keras import utils as np_utils\n",
    "from tensorflow.keras.callbacks import ModelCheckpoint\n",
    "import os\n",
    "from sklearn.metrics import balanced_accuracy_score\n",
    "from IPython.display import display, HTML"
   ]
  },
  {
   "cell_type": "code",
   "execution_count": 2,
   "metadata": {},
   "outputs": [],
   "source": [
    "%run \"../../../functions/get_data.ipynb\"\n",
    "%run \"../../../functions/training.ipynb\""
   ]
  },
  {
   "cell_type": "code",
   "execution_count": 3,
   "metadata": {},
   "outputs": [
    {
     "name": "stdout",
     "output_type": "stream",
     "text": [
      "['../../../data/initial_data/walk_inst_raw/P_1.mat', '../../../data/initial_data/walk_inst_raw/P_10.mat', '../../../data/initial_data/walk_inst_raw/P_2.mat', '../../../data/initial_data/walk_inst_raw/P_3.mat', '../../../data/initial_data/walk_inst_raw/P_4.mat', '../../../data/initial_data/walk_inst_raw/P_5.mat', '../../../data/initial_data/walk_inst_raw/P_9.mat', '../../../data/initial_data/walk_inst_raw/S_1.mat', '../../../data/initial_data/walk_inst_raw/S_10.mat', '../../../data/initial_data/walk_inst_raw/S_2.mat', '../../../data/initial_data/walk_inst_raw/S_3.mat', '../../../data/initial_data/walk_inst_raw/S_4.mat', '../../../data/initial_data/walk_inst_raw/S_5.mat', '../../../data/initial_data/walk_inst_raw/S_9.mat']\n"
     ]
    }
   ],
   "source": [
    "folder_path = '../../../data/initial_data/walk_inst_raw/'\n",
    "\n",
    "file_list = get_file_list(folder_path)\n",
    "\n",
    "print(file_list)"
   ]
  },
  {
   "cell_type": "code",
   "execution_count": 4,
   "metadata": {},
   "outputs": [],
   "source": [
    "X, Y = get_data(file_list)"
   ]
  },
  {
   "cell_type": "code",
   "execution_count": 5,
   "metadata": {},
   "outputs": [],
   "source": [
    "kernels, chans, samples = 1, 14, 500"
   ]
  },
  {
   "cell_type": "code",
   "execution_count": 6,
   "metadata": {},
   "outputs": [],
   "source": [
    "scroll_style = \"\"\"\n",
    "<style>\n",
    ".output {\n",
    "    overflow-y: scroll;\n",
    "    max-height: 300px; /* Adjust the height as per your preference */\n",
    "}\n",
    "</style>\n",
    "\"\"\""
   ]
  },
  {
   "cell_type": "code",
   "execution_count": null,
   "metadata": {},
   "outputs": [],
   "source": [
    "display(HTML(scroll_style))\n",
    "acc, p_acc, s_acc = train(kernels, samples, chans, X, Y, \"../../results/first_500_samples/walk_inst_raw.txt\", epochs = 50)\n",
    "print_results(p_acc, s_acc, acc, \"../../results/first_500_samples/walk_inst_raw.txt\")"
   ]
  }
 ],
 "metadata": {
  "kernelspec": {
   "display_name": "coimbra_pythonenv",
   "language": "python",
   "name": "python3"
  },
  "language_info": {
   "codemirror_mode": {
    "name": "ipython",
    "version": 3
   },
   "file_extension": ".py",
   "mimetype": "text/x-python",
   "name": "python",
   "nbconvert_exporter": "python",
   "pygments_lexer": "ipython3",
   "version": "3.11.4"
  },
  "orig_nbformat": 4
 },
 "nbformat": 4,
 "nbformat_minor": 2
}
