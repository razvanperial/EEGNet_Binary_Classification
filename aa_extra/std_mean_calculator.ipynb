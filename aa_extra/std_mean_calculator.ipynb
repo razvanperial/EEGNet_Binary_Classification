{
 "cells": [
  {
   "cell_type": "code",
   "execution_count": 3,
   "metadata": {},
   "outputs": [
    {
     "name": "stdout",
     "output_type": "stream",
     "text": [
      "P array:\n",
      "Standard Deviation: 0.2796401864777158\n",
      "Mean: 0.8292694285714286\n",
      "\n",
      "\n",
      "S array:\n",
      "Standard Deviation: 0.18524631602465116\n",
      "Mean: 0.8576884081632653\n",
      "\n",
      "\n",
      "P and S array:\n",
      "Standard Deviation: 0.1573881934282249\n",
      "Mean: 0.8434789387755102\n"
     ]
    }
   ],
   "source": [
    "import re\n",
    "import statistics\n",
    "\n",
    "# Regular expression patterns to extract values\n",
    "pattern_p = r\"Classification accuracy for P: ([\\d.]+)\"\n",
    "pattern_s = r\"Classification accuracy for S: ([\\d.]+)\"\n",
    "pattern_both = r\"Classification accuracy for P and S: ([\\d.]+)\"\n",
    "\n",
    "# Arrays to store values\n",
    "p_array = []\n",
    "s_array = []\n",
    "p_and_s_array = []\n",
    "\n",
    "# Read the text file\n",
    "with open('classification_results_execution.txt', 'r') as file:\n",
    "    content = file.read()\n",
    "\n",
    "# Find matches and extract values for P, S, and P and S\n",
    "matches_p = re.findall(pattern_p, content)\n",
    "matches_s = re.findall(pattern_s, content)\n",
    "matches_both = re.findall(pattern_both, content)\n",
    "\n",
    "# Convert values to floats and store them in arrays\n",
    "p_array = [float(value) for value in matches_p]\n",
    "s_array = [float(value) for value in matches_s]\n",
    "p_and_s_array = [float(value) for value in matches_both]\n",
    "\n",
    "# Calculate standard deviations and means\n",
    "p_std = statistics.stdev(p_array)\n",
    "s_std = statistics.stdev(s_array)\n",
    "p_and_s_std = statistics.stdev(p_and_s_array)\n",
    "\n",
    "p_mean = statistics.mean(p_array)\n",
    "s_mean = statistics.mean(s_array)\n",
    "p_and_s_mean = statistics.mean(p_and_s_array)\n",
    "\n",
    "# Print the results\n",
    "print(\"P array:\")\n",
    "print(\"Standard Deviation:\", p_std)\n",
    "print(\"Mean:\", p_mean)\n",
    "\n",
    "print(\"\\n\")\n",
    "\n",
    "print(\"S array:\")\n",
    "print(\"Standard Deviation:\", s_std)\n",
    "print(\"Mean:\", s_mean)\n",
    "\n",
    "print(\"\\n\")\n",
    "\n",
    "print(\"P and S array:\")\n",
    "print(\"Standard Deviation:\", p_and_s_std)\n",
    "print(\"Mean:\", p_and_s_mean)\n"
   ]
  }
 ],
 "metadata": {
  "kernelspec": {
   "display_name": "eeg_net_env",
   "language": "python",
   "name": "python3"
  },
  "language_info": {
   "codemirror_mode": {
    "name": "ipython",
    "version": 3
   },
   "file_extension": ".py",
   "mimetype": "text/x-python",
   "name": "python",
   "nbconvert_exporter": "python",
   "pygments_lexer": "ipython3",
   "version": "3.11.4"
  },
  "orig_nbformat": 4
 },
 "nbformat": 4,
 "nbformat_minor": 2
}
