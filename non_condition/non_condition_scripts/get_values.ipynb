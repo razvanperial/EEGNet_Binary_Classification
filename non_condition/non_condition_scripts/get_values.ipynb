{
 "cells": [
  {
   "cell_type": "code",
   "execution_count": 2,
   "metadata": {},
   "outputs": [],
   "source": [
    "import re"
   ]
  },
  {
   "cell_type": "code",
   "execution_count": 3,
   "metadata": {},
   "outputs": [],
   "source": [
    "\n",
    "pattern_p = r\"Mean P accuracy: ([\\d.]+)\"\n",
    "pattern_s = r\"Mean S accuracy: ([\\d.]+)\"\n",
    "pattern_all = r\"Mean overall accuracy: ([\\d.]+)\"\n",
    "\n",
    "patters_std_p = r\"Std P accuracy: ([\\d.]+)\"\n",
    "patters_std_s = r\"Std S accuracy: ([\\d.]+)\"\n",
    "patters_std_all = r\"Std overall accuracy: ([\\d.]+)\"\n"
   ]
  },
  {
   "cell_type": "code",
   "execution_count": 9,
   "metadata": {},
   "outputs": [],
   "source": [
    "files = [\"results_dance_exec_clean.txt\", \"results_dance_exec_raw.txt\", \"results_dance_instr_clean.txt\", \"results_dance_instr_raw.txt\",\n",
    "         \"results_walk_exec_clean.txt\", \"results_walk_instr_clean.txt\", \"results_walk_instr_raw.txt\"]\n",
    "\n",
    "# define a dictionary\n",
    "P_acc = {}\n",
    "S_acc = {}\n",
    "all_acc = {}\n",
    "\n",
    "P_std = {}\n",
    "S_std = {}\n",
    "all_std = {}"
   ]
  },
  {
   "cell_type": "code",
   "execution_count": 11,
   "metadata": {},
   "outputs": [],
   "source": [
    "for file in files:\n",
    "    with open(file, \"r\") as f:\n",
    "        content = f.read()\n",
    "        P_acc[file[8:-3]] = float(re.findall(pattern_p, content)[0])\n",
    "        S_acc[file[8:-3]] = float(re.findall(pattern_s, content)[0])\n",
    "        all_acc[file[8:-3]] = float(re.findall(pattern_all, content)[0])\n",
    "\n",
    "        P_std[file[8:-3]] = float(re.findall(patters_std_p, content)[0])\n",
    "        S_std[file[8:-3]] = float(re.findall(patters_std_s, content)[0])\n",
    "        all_std[file[8:-3]] = float(re.findall(patters_std_all, content)[0])\n",
    "\n"
   ]
  },
  {
   "cell_type": "code",
   "execution_count": 12,
   "metadata": {},
   "outputs": [
    {
     "name": "stdout",
     "output_type": "stream",
     "text": [
      "{'dance_exec_clean.': 0.776747, 'dance_exec_raw.': 0.924347, 'dance_instr_clean.': 0.702401, 'dance_instr_raw.': 0.863441, 'walk_exec_clean.': 0.531205, 'walk_instr_clean.': 0.452346, 'walk_instr_raw.': 0.791793}\n",
      "{'dance_exec_clean.': 0.649786, 'dance_exec_raw.': 0.881577, 'dance_instr_clean.': 0.696407, 'dance_instr_raw.': 0.888381, 'walk_exec_clean.': 0.607327, 'walk_instr_clean.': 0.530765, 'walk_instr_raw.': 0.873489}\n",
      "{'dance_exec_clean.': 0.713266, 'dance_exec_raw.': 0.902962, 'dance_instr_clean.': 0.699404, 'dance_instr_raw.': 0.875911, 'walk_exec_clean.': 0.569266, 'walk_instr_clean.': 0.491555, 'walk_instr_raw.': 0.832641}\n",
      "{'dance_exec_clean.': 0.334998, 'dance_exec_raw.': 0.12707, 'dance_instr_clean.': 0.352308, 'dance_instr_raw.': 0.20562, 'walk_exec_clean.': 0.382503, 'walk_instr_clean.': 0.43959, 'walk_instr_raw.': 0.311721}\n",
      "{'dance_exec_clean.': 0.373756, 'dance_exec_raw.': 0.189578, 'dance_instr_clean.': 0.3616, 'dance_instr_raw.': 0.167469, 'walk_exec_clean.': 0.399118, 'walk_instr_clean.': 0.400888, 'walk_instr_raw.': 0.161596}\n",
      "{'dance_exec_clean.': 0.235122, 'dance_exec_raw.': 0.108361, 'dance_instr_clean.': 0.23127, 'dance_instr_raw.': 0.127339, 'walk_exec_clean.': 0.249536, 'walk_instr_clean.': 0.2596, 'walk_instr_raw.': 0.163011}\n"
     ]
    }
   ],
   "source": [
    "print(P_acc)\n",
    "print(S_acc)\n",
    "print(all_acc)\n",
    "\n",
    "print(P_std)\n",
    "print(S_std)\n",
    "print(all_std)"
   ]
  },
  {
   "cell_type": "code",
   "execution_count": 13,
   "metadata": {},
   "outputs": [
    {
     "name": "stdout",
     "output_type": "stream",
     "text": [
      "{'dance_exec_clean.': '0.776747 ± 0.334998', 'dance_exec_raw.': '0.924347 ± 0.12707', 'dance_instr_clean.': '0.702401 ± 0.352308', 'dance_instr_raw.': '0.863441 ± 0.20562', 'walk_exec_clean.': '0.531205 ± 0.382503', 'walk_instr_clean.': '0.452346 ± 0.43959', 'walk_instr_raw.': '0.791793 ± 0.311721'}\n",
      "{'dance_exec_clean.': '0.649786 ± 0.373756', 'dance_exec_raw.': '0.881577 ± 0.189578', 'dance_instr_clean.': '0.696407 ± 0.3616', 'dance_instr_raw.': '0.888381 ± 0.167469', 'walk_exec_clean.': '0.607327 ± 0.399118', 'walk_instr_clean.': '0.530765 ± 0.400888', 'walk_instr_raw.': '0.873489 ± 0.161596'}\n",
      "{'dance_exec_clean.': '0.713266 ± 0.235122', 'dance_exec_raw.': '0.902962 ± 0.108361', 'dance_instr_clean.': '0.699404 ± 0.23127', 'dance_instr_raw.': '0.875911 ± 0.127339', 'walk_exec_clean.': '0.569266 ± 0.249536', 'walk_instr_clean.': '0.491555 ± 0.2596', 'walk_instr_raw.': '0.832641 ± 0.163011'}\n"
     ]
    }
   ],
   "source": [
    "final_P_values = {}\n",
    "final_S_values = {}\n",
    "final_all_values = {}\n",
    "\n",
    "for key in P_acc.keys():\n",
    "    final_P_values[key] = str(P_acc[key]) + \" ± \" + str(P_std[key])\n",
    "    final_S_values[key] = str(S_acc[key]) + \" ± \" + str(S_std[key])\n",
    "    final_all_values[key] = str(all_acc[key]) + \" ± \" + str(all_std[key])\n",
    "\n",
    "print(final_P_values)\n",
    "print(final_S_values)\n",
    "print(final_all_values)"
   ]
  }
 ],
 "metadata": {
  "kernelspec": {
   "display_name": "eeg_net_env",
   "language": "python",
   "name": "python3"
  },
  "language_info": {
   "codemirror_mode": {
    "name": "ipython",
    "version": 3
   },
   "file_extension": ".py",
   "mimetype": "text/x-python",
   "name": "python",
   "nbconvert_exporter": "python",
   "pygments_lexer": "ipython3",
   "version": "3.11.4"
  },
  "orig_nbformat": 4
 },
 "nbformat": 4,
 "nbformat_minor": 2
}
