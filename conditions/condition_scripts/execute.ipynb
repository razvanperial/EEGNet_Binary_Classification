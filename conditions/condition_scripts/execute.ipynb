{
 "cells": [
  {
   "cell_type": "code",
   "execution_count": 1,
   "metadata": {},
   "outputs": [
    {
     "name": "stdout",
     "output_type": "stream",
     "text": [
      "Running:  P_exec.ipynb\n",
      "Finished running:  P_exec.ipynb \n",
      "\n",
      "Running:  P_instr.ipynb\n",
      "Finished running:  P_instr.ipynb \n",
      "\n",
      "Running:  S_exec.ipynb\n"
     ]
    }
   ],
   "source": [
    "import subprocess\n",
    "\n",
    "file_names = ['P_exec.ipynb', 'P_instr.ipynb', 'S_exec.ipynb', 'S_instr.ipynb', 'P_and_S_exec.ipynb', 'P_and_S_instr.ipynb']\n",
    "\n",
    "for file in file_names:\n",
    "    print(\"Running: \", file)\n",
    "\n",
    "    command = ['ipython', file]\n",
    "    subprocess.run(command, check=True)\n",
    "\n",
    "    print(\"Finished running: \", file, \"\\n\")"
   ]
  }
 ],
 "metadata": {
  "kernelspec": {
   "display_name": "eeg_net_env",
   "language": "python",
   "name": "python3"
  },
  "language_info": {
   "codemirror_mode": {
    "name": "ipython",
    "version": 3
   },
   "file_extension": ".py",
   "mimetype": "text/x-python",
   "name": "python",
   "nbconvert_exporter": "python",
   "pygments_lexer": "ipython3",
   "version": "3.11.4"
  },
  "orig_nbformat": 4
 },
 "nbformat": 4,
 "nbformat_minor": 2
}
