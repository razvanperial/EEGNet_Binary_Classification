{
 "cells": [
  {
   "cell_type": "code",
   "execution_count": 1,
   "metadata": {},
   "outputs": [
    {
     "name": "stdout",
     "output_type": "stream",
     "text": [
      "Running:  dance_inst_clean.ipynb\n",
      "Finished running:  dance_inst_clean.ipynb \n",
      "\n",
      "Running:  walk_inst_clean.ipynb\n",
      "Finished running:  walk_inst_clean.ipynb \n",
      "\n"
     ]
    }
   ],
   "source": [
    "import subprocess\n",
    " \n",
    "file_names = ['dance_inst_clean.ipynb', 'walk_inst_clean.ipynb']\n",
    "\n",
    "for file in file_names:\n",
    "    print(\"Running: \", file)\n",
    "\n",
    "    command = ['ipython', file]\n",
    "    subprocess.run(command, check=True)\n",
    "\n",
    "    print(\"Finished running: \", file, \"\\n\")"
   ]
  }
 ],
 "metadata": {
  "kernelspec": {
   "display_name": "eeg_net_env",
   "language": "python",
   "name": "python3"
  },
  "language_info": {
   "codemirror_mode": {
    "name": "ipython",
    "version": 3
   },
   "file_extension": ".py",
   "mimetype": "text/x-python",
   "name": "python",
   "nbconvert_exporter": "python",
   "pygments_lexer": "ipython3",
   "version": "3.11.4"
  },
  "orig_nbformat": 4
 },
 "nbformat": 4,
 "nbformat_minor": 2
}
